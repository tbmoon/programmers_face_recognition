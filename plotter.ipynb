{
 "cells": [
  {
   "cell_type": "code",
   "execution_count": null,
   "metadata": {},
   "outputs": [],
   "source": [
    "import csv\n",
    "import numpy as np\n",
    "import matplotlib.pyplot as plt"
   ]
  },
  {
   "cell_type": "code",
   "execution_count": null,
   "metadata": {},
   "outputs": [],
   "source": [
    "num_epochs = 100"
   ]
  },
  {
   "cell_type": "code",
   "execution_count": null,
   "metadata": {},
   "outputs": [],
   "source": [
    "fig, axes = plt.subplots(nrows=1, ncols=2, figsize=(12, 5))\n",
    "\n",
    "epochs = {\"train\": list(), 'valid': list()}\n",
    "losses = {\"train\": list(), 'valid': list()}\n",
    "accuracies = {\"train\": list(), 'valid': list()}\n",
    "for phase in ['train', 'valid']:\n",
    "    \n",
    "    epoch = []\n",
    "    loss = []\n",
    "    accuracy = []\n",
    "    \n",
    "    for i in range(num_epochs):\n",
    "        \n",
    "        with open('./logs/{}-log-epoch-{:02d}.txt'.format(phase, i+1), 'r') as f:\n",
    "            df = csv.reader(f, delimiter='\\t')\n",
    "            data = list(df)\n",
    "        epoch.append(float(data[0][0]))\n",
    "        loss.append(float(data[0][1]))\n",
    "        accuracy.append(float(data[0][2]))\n",
    "    epochs[phase] = epoch\n",
    "    losses[phase] = loss\n",
    "    accuracies[phase] = accuracy\n",
    "\n",
    "color = {'train': 'red', 'valid': 'blue'}\n",
    "plt.subplot(1, 2, 1)\n",
    "for phase in ['train', 'valid']:\n",
    "    plt.plot(epochs[phase], losses[phase], label = phase, color = color[phase], linewidth = 5.0)\n",
    "plt.xlabel('Epoch', fontsize = 20)\n",
    "plt.ylabel('Loss', fontsize = 20)\n",
    "        \n",
    "plt.subplot(1, 2, 2)\n",
    "#plt.tight_layout()\n",
    "for phase in ['train', 'valid']:\n",
    "    plt.plot(epochs[phase], accuracies[phase], label = phase, color = color[phase], linewidth = 5.0)\n",
    "plt.xlabel('Epoch', fontsize = 20)\n",
    "plt.ylabel('Accuracy', fontsize = 20)\n",
    "plt.legend(bbox_to_anchor=(1.05, 1), loc=2, borderaxespad=0., prop={'size': 20})\n",
    "    \n",
    "plt.savefig('./png/train.png', dpi = fig.dpi)"
   ]
  }
 ],
 "metadata": {
  "kernelspec": {
   "display_name": "Python 3",
   "language": "python",
   "name": "python3"
  },
  "language_info": {
   "codemirror_mode": {
    "name": "ipython",
    "version": 3
   },
   "file_extension": ".py",
   "mimetype": "text/x-python",
   "name": "python",
   "nbconvert_exporter": "python",
   "pygments_lexer": "ipython3",
   "version": "3.6.7"
  }
 },
 "nbformat": 4,
 "nbformat_minor": 2
}
